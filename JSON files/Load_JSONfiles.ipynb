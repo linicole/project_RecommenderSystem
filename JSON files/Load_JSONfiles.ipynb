{
 "metadata": {
  "name": "",
  "signature": "sha256:e306d7089f299eaa592c612f59058436f8d6f0ecf8be76c2a220a3901ffc7f38"
 },
 "nbformat": 3,
 "nbformat_minor": 0,
 "worksheets": [
  {
   "cells": [
    {
     "cell_type": "heading",
     "level": 4,
     "metadata": {},
     "source": [
      "This file is used to import the Data Repository in case the update information system is unable to run."
     ]
    },
    {
     "cell_type": "code",
     "collapsed": false,
     "input": [
      "# Please put your JSON files location there\n",
      "cd "
     ],
     "language": "python",
     "metadata": {},
     "outputs": []
    },
    {
     "cell_type": "code",
     "collapsed": false,
     "input": [
      "import json\n",
      "import collections"
     ],
     "language": "python",
     "metadata": {},
     "outputs": [],
     "prompt_number": 73
    },
    {
     "cell_type": "code",
     "collapsed": false,
     "input": [
      "def convert(data):\n",
      "    if isinstance(data, basestring):\n",
      "        return str(data)\n",
      "    elif isinstance(data, collections.Mapping):\n",
      "        return dict(map(convert, data.iteritems()))\n",
      "    elif isinstance(data, collections.Iterable):\n",
      "        return type(data)(map(convert, data))\n",
      "    else:\n",
      "        return data"
     ],
     "language": "python",
     "metadata": {},
     "outputs": [],
     "prompt_number": 74
    },
    {
     "cell_type": "code",
     "collapsed": false,
     "input": [
      "in_file = open(\"news_link.json\",\"r\")\n",
      "news_link = convert(json.load(in_file))\n",
      "in_file.close()"
     ],
     "language": "python",
     "metadata": {},
     "outputs": [],
     "prompt_number": 75
    },
    {
     "cell_type": "code",
     "collapsed": false,
     "input": [
      "in_file = open(\"news_stem.json\",\"r\")\n",
      "news_stem = convert(json.load(in_file))\n",
      "in_file.close()"
     ],
     "language": "python",
     "metadata": {},
     "outputs": []
    },
    {
     "cell_type": "code",
     "collapsed": false,
     "input": [
      "in_file = open(\"job_link.json\",\"r\")\n",
      "job_link = convert(json.load(in_file))\n",
      "in_file.close()"
     ],
     "language": "python",
     "metadata": {},
     "outputs": []
    },
    {
     "cell_type": "code",
     "collapsed": false,
     "input": [
      "in_file = open(\"job_stem.json\",\"r\")\n",
      "job_stem = convert(json.load(in_file))\n",
      "in_file.close()"
     ],
     "language": "python",
     "metadata": {},
     "outputs": []
    },
    {
     "cell_type": "code",
     "collapsed": false,
     "input": [
      "in_file = open(\"book_link.json\",\"r\")\n",
      "book_link = convert(json.load(in_file))\n",
      "in_file.close()"
     ],
     "language": "python",
     "metadata": {},
     "outputs": []
    },
    {
     "cell_type": "code",
     "collapsed": false,
     "input": [
      "in_file = open(\"book_stem.json\",\"r\")\n",
      "book_stem = convert(json.load(in_file))\n",
      "in_file.close()"
     ],
     "language": "python",
     "metadata": {},
     "outputs": []
    }
   ],
   "metadata": {}
  }
 ]
}